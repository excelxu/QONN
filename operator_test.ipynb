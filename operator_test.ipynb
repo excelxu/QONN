{
 "cells": [
  {
   "cell_type": "code",
   "execution_count": 11,
   "outputs": [],
   "source": [
    "'''\n",
    "参考文章 QONN in pennylanes\n",
    "'''\n",
    "import numpy as np\n",
    "import pennylane as qml\n",
    "from pennylane.operation import Operation"
   ],
   "metadata": {
    "collapsed": false
   }
  },
  {
   "cell_type": "code",
   "execution_count": 47,
   "metadata": {
    "collapsed": true
   },
   "outputs": [],
   "source": [
    "class RBS(Operation):\n",
    "    num_params = 1\n",
    "    num_wires = 2\n",
    "    par_domain = \"R\"\n",
    "\n",
    "    def __init__(self, theta, wires):\n",
    "        self.theta = theta\n",
    "        super().__init__(theta, wires=wires)\n",
    "\n",
    "    def expand(self):\n",
    "    # expand 定义了此量子操作的展开形式\n",
    "        qml.Hadamard(wires=self.wires[0])\n",
    "        qml.Hadamard(wires=self.wires[1])\n",
    "        qml.CZ(wires=[self.wires[0],self.wires[1]])\n",
    "        qml.RY(self.theta/2, wires=self.wires[0])\n",
    "        qml.RY(-self.theta/2, wires=self.wires[1])\n",
    "        qml.CZ(wires=[self.wires[0],self.wires[1]])\n",
    "        qml.Hadamard(wires=self.wires[0])\n",
    "        qml.Hadamard(wires=self.wires[1])"
   ]
  },
  {
   "cell_type": "code",
   "execution_count": 49,
   "outputs": [
    {
     "ename": "AttributeError",
     "evalue": "'NoneType' object has no attribute 'samples_computational_basis'",
     "output_type": "error",
     "traceback": [
      "\u001B[0;31m---------------------------------------------------------------------------\u001B[0m",
      "\u001B[0;31mAttributeError\u001B[0m                            Traceback (most recent call last)",
      "Cell \u001B[0;32mIn[49], line 8\u001B[0m\n\u001B[1;32m      6\u001B[0m     RBS(np\u001B[38;5;241m.\u001B[39mpi, [\u001B[38;5;241m0\u001B[39m,\u001B[38;5;241m1\u001B[39m])\n\u001B[1;32m      7\u001B[0m     \u001B[38;5;28;01mreturn\u001B[39;00m qml\u001B[38;5;241m.\u001B[39mstate()\n\u001B[0;32m----> 8\u001B[0m \u001B[43mcircuit\u001B[49m\u001B[43m(\u001B[49m\u001B[43m)\u001B[49m\n",
      "File \u001B[0;32m~/.conda/envs/reverse_mode_train/lib/python3.10/site-packages/pennylane/qnode.py:847\u001B[0m, in \u001B[0;36mQNode.__call__\u001B[0;34m(self, *args, **kwargs)\u001B[0m\n\u001B[1;32m    843\u001B[0m     \u001B[38;5;28mself\u001B[39m\u001B[38;5;241m.\u001B[39m_update_original_device()\n\u001B[1;32m    845\u001B[0m     \u001B[38;5;28;01mreturn\u001B[39;00m res\n\u001B[0;32m--> 847\u001B[0m res \u001B[38;5;241m=\u001B[39m \u001B[43mqml\u001B[49m\u001B[38;5;241;43m.\u001B[39;49m\u001B[43mexecute\u001B[49m\u001B[43m(\u001B[49m\n\u001B[1;32m    848\u001B[0m \u001B[43m    \u001B[49m\u001B[43m[\u001B[49m\u001B[38;5;28;43mself\u001B[39;49m\u001B[38;5;241;43m.\u001B[39;49m\u001B[43mtape\u001B[49m\u001B[43m]\u001B[49m\u001B[43m,\u001B[49m\n\u001B[1;32m    849\u001B[0m \u001B[43m    \u001B[49m\u001B[43mdevice\u001B[49m\u001B[38;5;241;43m=\u001B[39;49m\u001B[38;5;28;43mself\u001B[39;49m\u001B[38;5;241;43m.\u001B[39;49m\u001B[43mdevice\u001B[49m\u001B[43m,\u001B[49m\n\u001B[1;32m    850\u001B[0m \u001B[43m    \u001B[49m\u001B[43mgradient_fn\u001B[49m\u001B[38;5;241;43m=\u001B[39;49m\u001B[38;5;28;43mself\u001B[39;49m\u001B[38;5;241;43m.\u001B[39;49m\u001B[43mgradient_fn\u001B[49m\u001B[43m,\u001B[49m\n\u001B[1;32m    851\u001B[0m \u001B[43m    \u001B[49m\u001B[43minterface\u001B[49m\u001B[38;5;241;43m=\u001B[39;49m\u001B[38;5;28;43mself\u001B[39;49m\u001B[38;5;241;43m.\u001B[39;49m\u001B[43minterface\u001B[49m\u001B[43m,\u001B[49m\n\u001B[1;32m    852\u001B[0m \u001B[43m    \u001B[49m\u001B[43mgradient_kwargs\u001B[49m\u001B[38;5;241;43m=\u001B[39;49m\u001B[38;5;28;43mself\u001B[39;49m\u001B[38;5;241;43m.\u001B[39;49m\u001B[43mgradient_kwargs\u001B[49m\u001B[43m,\u001B[49m\n\u001B[1;32m    853\u001B[0m \u001B[43m    \u001B[49m\u001B[43moverride_shots\u001B[49m\u001B[38;5;241;43m=\u001B[39;49m\u001B[43moverride_shots\u001B[49m\u001B[43m,\u001B[49m\n\u001B[1;32m    854\u001B[0m \u001B[43m    \u001B[49m\u001B[38;5;241;43m*\u001B[39;49m\u001B[38;5;241;43m*\u001B[39;49m\u001B[38;5;28;43mself\u001B[39;49m\u001B[38;5;241;43m.\u001B[39;49m\u001B[43mexecute_kwargs\u001B[49m\u001B[43m,\u001B[49m\n\u001B[1;32m    855\u001B[0m \u001B[43m\u001B[49m\u001B[43m)\u001B[49m\n\u001B[1;32m    857\u001B[0m \u001B[38;5;28;01mif\u001B[39;00m old_interface \u001B[38;5;241m==\u001B[39m \u001B[38;5;124m\"\u001B[39m\u001B[38;5;124mauto\u001B[39m\u001B[38;5;124m\"\u001B[39m:\n\u001B[1;32m    858\u001B[0m     \u001B[38;5;28mself\u001B[39m\u001B[38;5;241m.\u001B[39minterface \u001B[38;5;241m=\u001B[39m \u001B[38;5;124m\"\u001B[39m\u001B[38;5;124mauto\u001B[39m\u001B[38;5;124m\"\u001B[39m\n",
      "File \u001B[0;32m~/.conda/envs/reverse_mode_train/lib/python3.10/site-packages/pennylane/interfaces/execution.py:651\u001B[0m, in \u001B[0;36mexecute\u001B[0;34m(tapes, device, gradient_fn, interface, mode, gradient_kwargs, cache, cachesize, max_diff, override_shots, expand_fn, max_expansion, device_batch_transform)\u001B[0m\n\u001B[1;32m    647\u001B[0m     \u001B[38;5;28;01mreturn\u001B[39;00m batch_fn(res)\n\u001B[1;32m    649\u001B[0m \u001B[38;5;28;01mif\u001B[39;00m gradient_fn \u001B[38;5;241m==\u001B[39m \u001B[38;5;124m\"\u001B[39m\u001B[38;5;124mbackprop\u001B[39m\u001B[38;5;124m\"\u001B[39m \u001B[38;5;129;01mor\u001B[39;00m interface \u001B[38;5;129;01mis\u001B[39;00m \u001B[38;5;28;01mNone\u001B[39;00m:\n\u001B[1;32m    650\u001B[0m     \u001B[38;5;28;01mreturn\u001B[39;00m batch_fn(\n\u001B[0;32m--> 651\u001B[0m         \u001B[43mqml\u001B[49m\u001B[38;5;241;43m.\u001B[39;49m\u001B[43minterfaces\u001B[49m\u001B[38;5;241;43m.\u001B[39;49m\u001B[43mcache_execute\u001B[49m\u001B[43m(\u001B[49m\n\u001B[1;32m    652\u001B[0m \u001B[43m            \u001B[49m\u001B[43mbatch_execute\u001B[49m\u001B[43m,\u001B[49m\u001B[43m \u001B[49m\u001B[43mcache\u001B[49m\u001B[43m,\u001B[49m\u001B[43m \u001B[49m\u001B[43mreturn_tuple\u001B[49m\u001B[38;5;241;43m=\u001B[39;49m\u001B[38;5;28;43;01mFalse\u001B[39;49;00m\u001B[43m,\u001B[49m\u001B[43m \u001B[49m\u001B[43mexpand_fn\u001B[49m\u001B[38;5;241;43m=\u001B[39;49m\u001B[43mexpand_fn\u001B[49m\n\u001B[1;32m    653\u001B[0m \u001B[43m        \u001B[49m\u001B[43m)\u001B[49m\u001B[43m(\u001B[49m\u001B[43mtapes\u001B[49m\u001B[43m)\u001B[49m\n\u001B[1;32m    654\u001B[0m     )\n\u001B[1;32m    656\u001B[0m \u001B[38;5;66;03m# the default execution function is batch_execute\u001B[39;00m\n\u001B[1;32m    657\u001B[0m execute_fn \u001B[38;5;241m=\u001B[39m qml\u001B[38;5;241m.\u001B[39minterfaces\u001B[38;5;241m.\u001B[39mcache_execute(batch_execute, cache, expand_fn\u001B[38;5;241m=\u001B[39mexpand_fn)\n",
      "File \u001B[0;32m~/.conda/envs/reverse_mode_train/lib/python3.10/site-packages/pennylane/interfaces/execution.py:206\u001B[0m, in \u001B[0;36mcache_execute.<locals>.wrapper\u001B[0;34m(tapes, **kwargs)\u001B[0m\n\u001B[1;32m    202\u001B[0m         \u001B[38;5;28;01mreturn\u001B[39;00m (res, []) \u001B[38;5;28;01mif\u001B[39;00m return_tuple \u001B[38;5;28;01melse\u001B[39;00m res\n\u001B[1;32m    204\u001B[0m \u001B[38;5;28;01melse\u001B[39;00m:\n\u001B[1;32m    205\u001B[0m     \u001B[38;5;66;03m# execute all unique tapes that do not exist in the cache\u001B[39;00m\n\u001B[0;32m--> 206\u001B[0m     res \u001B[38;5;241m=\u001B[39m \u001B[43mfn\u001B[49m\u001B[43m(\u001B[49m\u001B[43mexecution_tapes\u001B[49m\u001B[38;5;241;43m.\u001B[39;49m\u001B[43mvalues\u001B[49m\u001B[43m(\u001B[49m\u001B[43m)\u001B[49m\u001B[43m,\u001B[49m\u001B[43m \u001B[49m\u001B[38;5;241;43m*\u001B[39;49m\u001B[38;5;241;43m*\u001B[39;49m\u001B[43mkwargs\u001B[49m\u001B[43m)\u001B[49m\n\u001B[1;32m    208\u001B[0m final_res \u001B[38;5;241m=\u001B[39m []\n\u001B[1;32m    210\u001B[0m \u001B[38;5;28;01mfor\u001B[39;00m i, tape \u001B[38;5;129;01min\u001B[39;00m \u001B[38;5;28menumerate\u001B[39m(tapes):\n",
      "File \u001B[0;32m~/.conda/envs/reverse_mode_train/lib/python3.10/site-packages/pennylane/interfaces/execution.py:130\u001B[0m, in \u001B[0;36mcache_execute.<locals>.fn\u001B[0;34m(tapes, **kwargs)\u001B[0m\n\u001B[1;32m    129\u001B[0m \u001B[38;5;28;01mdef\u001B[39;00m \u001B[38;5;21mfn\u001B[39m(tapes: Sequence[QuantumTape], \u001B[38;5;241m*\u001B[39m\u001B[38;5;241m*\u001B[39mkwargs):  \u001B[38;5;66;03m# pylint: disable=function-redefined\u001B[39;00m\n\u001B[0;32m--> 130\u001B[0m     tapes \u001B[38;5;241m=\u001B[39m [expand_fn(tape) \u001B[38;5;28;01mfor\u001B[39;00m tape \u001B[38;5;129;01min\u001B[39;00m tapes]\n\u001B[1;32m    131\u001B[0m     \u001B[38;5;28;01mreturn\u001B[39;00m original_fn(tapes, \u001B[38;5;241m*\u001B[39m\u001B[38;5;241m*\u001B[39mkwargs)\n",
      "File \u001B[0;32m~/.conda/envs/reverse_mode_train/lib/python3.10/site-packages/pennylane/interfaces/execution.py:130\u001B[0m, in \u001B[0;36m<listcomp>\u001B[0;34m(.0)\u001B[0m\n\u001B[1;32m    129\u001B[0m \u001B[38;5;28;01mdef\u001B[39;00m \u001B[38;5;21mfn\u001B[39m(tapes: Sequence[QuantumTape], \u001B[38;5;241m*\u001B[39m\u001B[38;5;241m*\u001B[39mkwargs):  \u001B[38;5;66;03m# pylint: disable=function-redefined\u001B[39;00m\n\u001B[0;32m--> 130\u001B[0m     tapes \u001B[38;5;241m=\u001B[39m [\u001B[43mexpand_fn\u001B[49m\u001B[43m(\u001B[49m\u001B[43mtape\u001B[49m\u001B[43m)\u001B[49m \u001B[38;5;28;01mfor\u001B[39;00m tape \u001B[38;5;129;01min\u001B[39;00m tapes]\n\u001B[1;32m    131\u001B[0m     \u001B[38;5;28;01mreturn\u001B[39;00m original_fn(tapes, \u001B[38;5;241m*\u001B[39m\u001B[38;5;241m*\u001B[39mkwargs)\n",
      "File \u001B[0;32m~/.conda/envs/reverse_mode_train/lib/python3.10/site-packages/pennylane/interfaces/execution.py:632\u001B[0m, in \u001B[0;36mexecute.<locals>.<lambda>\u001B[0;34m(tape)\u001B[0m\n\u001B[1;32m    629\u001B[0m batch_execute \u001B[38;5;241m=\u001B[39m set_shots(device, override_shots)(device\u001B[38;5;241m.\u001B[39mbatch_execute)\n\u001B[1;32m    631\u001B[0m \u001B[38;5;28;01mif\u001B[39;00m expand_fn \u001B[38;5;241m==\u001B[39m \u001B[38;5;124m\"\u001B[39m\u001B[38;5;124mdevice\u001B[39m\u001B[38;5;124m\"\u001B[39m:\n\u001B[0;32m--> 632\u001B[0m     expand_fn \u001B[38;5;241m=\u001B[39m \u001B[38;5;28;01mlambda\u001B[39;00m tape: \u001B[43mdevice\u001B[49m\u001B[38;5;241;43m.\u001B[39;49m\u001B[43mexpand_fn\u001B[49m\u001B[43m(\u001B[49m\u001B[43mtape\u001B[49m\u001B[43m,\u001B[49m\u001B[43m \u001B[49m\u001B[43mmax_expansion\u001B[49m\u001B[38;5;241;43m=\u001B[39;49m\u001B[43mmax_expansion\u001B[49m\u001B[43m)\u001B[49m\n\u001B[1;32m    634\u001B[0m \u001B[38;5;28;01mif\u001B[39;00m gradient_fn \u001B[38;5;129;01mis\u001B[39;00m \u001B[38;5;28;01mNone\u001B[39;00m:\n\u001B[1;32m    635\u001B[0m     \u001B[38;5;66;03m# don't unwrap if it's an interface device\u001B[39;00m\n\u001B[1;32m    636\u001B[0m     \u001B[38;5;28;01mif\u001B[39;00m \u001B[38;5;124m\"\u001B[39m\u001B[38;5;124mpassthru_interface\u001B[39m\u001B[38;5;124m\"\u001B[39m \u001B[38;5;129;01min\u001B[39;00m device\u001B[38;5;241m.\u001B[39mcapabilities():\n",
      "File \u001B[0;32m~/.conda/envs/reverse_mode_train/lib/python3.10/site-packages/pennylane/_device.py:699\u001B[0m, in \u001B[0;36mDevice.expand_fn\u001B[0;34m(self, circuit, max_expansion)\u001B[0m\n\u001B[1;32m    696\u001B[0m \u001B[38;5;28;01mif\u001B[39;00m \u001B[38;5;28mself\u001B[39m\u001B[38;5;241m.\u001B[39mcustom_expand_fn \u001B[38;5;129;01mis\u001B[39;00m \u001B[38;5;129;01mnot\u001B[39;00m \u001B[38;5;28;01mNone\u001B[39;00m:\n\u001B[1;32m    697\u001B[0m     \u001B[38;5;28;01mreturn\u001B[39;00m \u001B[38;5;28mself\u001B[39m\u001B[38;5;241m.\u001B[39mcustom_expand_fn(circuit, max_expansion\u001B[38;5;241m=\u001B[39mmax_expansion)\n\u001B[0;32m--> 699\u001B[0m \u001B[38;5;28;01mreturn\u001B[39;00m \u001B[38;5;28;43mself\u001B[39;49m\u001B[38;5;241;43m.\u001B[39;49m\u001B[43mdefault_expand_fn\u001B[49m\u001B[43m(\u001B[49m\u001B[43mcircuit\u001B[49m\u001B[43m,\u001B[49m\u001B[43m \u001B[49m\u001B[43mmax_expansion\u001B[49m\u001B[38;5;241;43m=\u001B[39;49m\u001B[43mmax_expansion\u001B[49m\u001B[43m)\u001B[49m\n",
      "File \u001B[0;32m~/.conda/envs/reverse_mode_train/lib/python3.10/site-packages/pennylane/_device.py:674\u001B[0m, in \u001B[0;36mDevice.default_expand_fn\u001B[0;34m(self, circuit, max_expansion)\u001B[0m\n\u001B[1;32m    671\u001B[0m ops_not_supported \u001B[38;5;241m=\u001B[39m \u001B[38;5;129;01mnot\u001B[39;00m \u001B[38;5;28mall\u001B[39m(\u001B[38;5;28mself\u001B[39m\u001B[38;5;241m.\u001B[39mstopping_condition(op) \u001B[38;5;28;01mfor\u001B[39;00m op \u001B[38;5;129;01min\u001B[39;00m circuit\u001B[38;5;241m.\u001B[39moperations)\n\u001B[1;32m    673\u001B[0m \u001B[38;5;28;01mif\u001B[39;00m ops_not_supported \u001B[38;5;129;01mor\u001B[39;00m obs_on_same_wire:\n\u001B[0;32m--> 674\u001B[0m     circuit \u001B[38;5;241m=\u001B[39m \u001B[43mcircuit\u001B[49m\u001B[38;5;241;43m.\u001B[39;49m\u001B[43mexpand\u001B[49m\u001B[43m(\u001B[49m\u001B[43mdepth\u001B[49m\u001B[38;5;241;43m=\u001B[39;49m\u001B[43mmax_expansion\u001B[49m\u001B[43m,\u001B[49m\u001B[43m \u001B[49m\u001B[43mstop_at\u001B[49m\u001B[38;5;241;43m=\u001B[39;49m\u001B[38;5;28;43mself\u001B[39;49m\u001B[38;5;241;43m.\u001B[39;49m\u001B[43mstopping_condition\u001B[49m\u001B[43m)\u001B[49m\n\u001B[1;32m    676\u001B[0m \u001B[38;5;28;01mreturn\u001B[39;00m circuit\n",
      "File \u001B[0;32m~/.conda/envs/reverse_mode_train/lib/python3.10/site-packages/pennylane/tape/qscript.py:1052\u001B[0m, in \u001B[0;36mQuantumScript.expand\u001B[0;34m(self, depth, stop_at, expand_measurements)\u001B[0m\n\u001B[1;32m   1010\u001B[0m \u001B[38;5;28;01mdef\u001B[39;00m \u001B[38;5;21mexpand\u001B[39m(\u001B[38;5;28mself\u001B[39m, depth\u001B[38;5;241m=\u001B[39m\u001B[38;5;241m1\u001B[39m, stop_at\u001B[38;5;241m=\u001B[39m\u001B[38;5;28;01mNone\u001B[39;00m, expand_measurements\u001B[38;5;241m=\u001B[39m\u001B[38;5;28;01mFalse\u001B[39;00m):\n\u001B[1;32m   1011\u001B[0m     \u001B[38;5;124;03m\"\"\"Expand all operations to a specific depth.\u001B[39;00m\n\u001B[1;32m   1012\u001B[0m \n\u001B[1;32m   1013\u001B[0m \u001B[38;5;124;03m    Args:\u001B[39;00m\n\u001B[0;32m   (...)\u001B[0m\n\u001B[1;32m   1050\u001B[0m \u001B[38;5;124;03m    RY(0.2, wires=['a'])]\u001B[39;00m\n\u001B[1;32m   1051\u001B[0m \u001B[38;5;124;03m    \"\"\"\u001B[39;00m\n\u001B[0;32m-> 1052\u001B[0m     new_script \u001B[38;5;241m=\u001B[39m \u001B[43mqml\u001B[49m\u001B[38;5;241;43m.\u001B[39;49m\u001B[43mtape\u001B[49m\u001B[38;5;241;43m.\u001B[39;49m\u001B[43mtape\u001B[49m\u001B[38;5;241;43m.\u001B[39;49m\u001B[43mexpand_tape\u001B[49m\u001B[43m(\u001B[49m\n\u001B[1;32m   1053\u001B[0m \u001B[43m        \u001B[49m\u001B[38;5;28;43mself\u001B[39;49m\u001B[43m,\u001B[49m\u001B[43m \u001B[49m\u001B[43mdepth\u001B[49m\u001B[38;5;241;43m=\u001B[39;49m\u001B[43mdepth\u001B[49m\u001B[43m,\u001B[49m\u001B[43m \u001B[49m\u001B[43mstop_at\u001B[49m\u001B[38;5;241;43m=\u001B[39;49m\u001B[43mstop_at\u001B[49m\u001B[43m,\u001B[49m\u001B[43m \u001B[49m\u001B[43mexpand_measurements\u001B[49m\u001B[38;5;241;43m=\u001B[39;49m\u001B[43mexpand_measurements\u001B[49m\n\u001B[1;32m   1054\u001B[0m \u001B[43m    \u001B[49m\u001B[43m)\u001B[49m\n\u001B[1;32m   1055\u001B[0m     new_script\u001B[38;5;241m.\u001B[39m_update()\n\u001B[1;32m   1056\u001B[0m     \u001B[38;5;28;01mreturn\u001B[39;00m new_script\n",
      "File \u001B[0;32m~/.conda/envs/reverse_mode_train/lib/python3.10/site-packages/pennylane/tape/tape.py:209\u001B[0m, in \u001B[0;36mexpand_tape\u001B[0;34m(tape, depth, stop_at, expand_measurements)\u001B[0m\n\u001B[1;32m    206\u001B[0m         \u001B[38;5;28;01mcontinue\u001B[39;00m\n\u001B[1;32m    208\u001B[0m \u001B[38;5;66;03m# recursively expand out the newly created tape\u001B[39;00m\n\u001B[0;32m--> 209\u001B[0m expanded_tape \u001B[38;5;241m=\u001B[39m \u001B[43mexpand_tape\u001B[49m\u001B[43m(\u001B[49m\u001B[43mobj\u001B[49m\u001B[43m,\u001B[49m\u001B[43m \u001B[49m\u001B[43mstop_at\u001B[49m\u001B[38;5;241;43m=\u001B[39;49m\u001B[43mstop_at\u001B[49m\u001B[43m,\u001B[49m\u001B[43m \u001B[49m\u001B[43mdepth\u001B[49m\u001B[38;5;241;43m=\u001B[39;49m\u001B[43mdepth\u001B[49m\u001B[43m \u001B[49m\u001B[38;5;241;43m-\u001B[39;49m\u001B[43m \u001B[49m\u001B[38;5;241;43m1\u001B[39;49m\u001B[43m)\u001B[49m\n\u001B[1;32m    211\u001B[0m new_prep\u001B[38;5;241m.\u001B[39mextend(expanded_tape\u001B[38;5;241m.\u001B[39m_prep)\n\u001B[1;32m    212\u001B[0m new_ops\u001B[38;5;241m.\u001B[39mextend(expanded_tape\u001B[38;5;241m.\u001B[39m_ops)\n",
      "File \u001B[0;32m~/.conda/envs/reverse_mode_train/lib/python3.10/site-packages/pennylane/tape/tape.py:149\u001B[0m, in \u001B[0;36mexpand_tape\u001B[0;34m(tape, depth, stop_at, expand_measurements)\u001B[0m\n\u001B[1;32m    143\u001B[0m new_measurements \u001B[38;5;241m=\u001B[39m []\n\u001B[1;32m    145\u001B[0m \u001B[38;5;66;03m# Check for observables acting on the same wire. If present, observables must be\u001B[39;00m\n\u001B[1;32m    146\u001B[0m \u001B[38;5;66;03m# qubit-wise commuting Pauli words. In this case, the tape is expanded with joint\u001B[39;00m\n\u001B[1;32m    147\u001B[0m \u001B[38;5;66;03m# rotations and the observables updated to the computational basis. Note that this\u001B[39;00m\n\u001B[1;32m    148\u001B[0m \u001B[38;5;66;03m# expansion acts on the original tape in place.\u001B[39;00m\n\u001B[0;32m--> 149\u001B[0m \u001B[38;5;28;01mif\u001B[39;00m \u001B[43mtape\u001B[49m\u001B[38;5;241;43m.\u001B[39;49m\u001B[43msamples_computational_basis\u001B[49m \u001B[38;5;129;01mand\u001B[39;00m \u001B[38;5;28mlen\u001B[39m(tape\u001B[38;5;241m.\u001B[39mmeasurements) \u001B[38;5;241m>\u001B[39m \u001B[38;5;241m1\u001B[39m:\n\u001B[1;32m    150\u001B[0m     _validate_computational_basis_sampling(tape\u001B[38;5;241m.\u001B[39mmeasurements)\n\u001B[1;32m    152\u001B[0m \u001B[38;5;28;01mif\u001B[39;00m tape\u001B[38;5;241m.\u001B[39m_obs_sharing_wires:\n",
      "\u001B[0;31mAttributeError\u001B[0m: 'NoneType' object has no attribute 'samples_computational_basis'"
     ]
    }
   ],
   "source": [
    "dev = qml.device('default.qubit', wires=2)\n",
    "@qml.qnode(dev)\n",
    "def circuit():\n",
    "    qml.QubitStateVector([0,1,0,0]\n",
    "                        ,wires=[0,1])\n",
    "    RBS(np.pi, [0,1])\n",
    "    return qml.state()\n",
    "circuit()"
   ],
   "metadata": {
    "collapsed": false
   }
  },
  {
   "cell_type": "code",
   "execution_count": null,
   "outputs": [],
   "source": [],
   "metadata": {
    "collapsed": false
   }
  },
  {
   "cell_type": "markdown",
   "source": [
    "# 使用矩阵直接生成RBS"
   ],
   "metadata": {
    "collapsed": false
   }
  },
  {
   "cell_type": "code",
   "execution_count": 46,
   "outputs": [],
   "source": [
    "# plan B,使用方程生成操作\n",
    "def my_RBS(params, on_wire):\n",
    "    \"\"\"定义一个自定义的参数化二比特门\"\"\"\n",
    "    qml.QubitUnitary(np.array([[1, 0, 0, 0],\n",
    "                               [0, np.cos(params), np.sin(params), 0],\n",
    "                               [0, -np.sin(params), np.cos(params), 0],\n",
    "                               [0, 0, 0, 1]]),\n",
    "                     wires=on_wire)\n"
   ],
   "metadata": {
    "collapsed": false
   }
  },
  {
   "cell_type": "code",
   "execution_count": 45,
   "outputs": [
    {
     "name": "stdout",
     "output_type": "stream",
     "text": [
      "[0.50136797 0.29192658 0.20670545 0.        ]\n",
      "0: ─╭QubitStateVector(M0)─╭U(M1)────────╭U(M1)────────┤       \n",
      "1: ─├QubitStateVector(M0)─╰U(M1)─╭U(M1)─╰U(M1)─╭U(M1)─┤       \n",
      "2: ─├QubitStateVector(M0)────────╰U(M1)─╭U(M1)─╰U(M1)─┤ ╭Probs\n",
      "3: ─╰QubitStateVector(M0)───────────────╰U(M1)────────┤ ╰Probs\n"
     ]
    }
   ],
   "source": [
    "dev = qml.device('default.qubit', wires=4)\n",
    "@qml.qnode(dev)\n",
    "def circuit(in_state, params):\n",
    "    qml.QubitStateVector(in_state\n",
    "                        ,wires=[0,1,2,3])\n",
    "    my_RBS(params[0], [0,1])\n",
    "    my_RBS(params[1], [1,2])\n",
    "    my_RBS(params[2], [0,1])\n",
    "    my_RBS(params[3], [2,3])\n",
    "    my_RBS(params[4], [1,2])\n",
    "    return qml.probs(wires=[2,3])\n",
    "\n",
    "theta = [1,1,1,1,1]\n",
    "in_state = np.zeros(2**4)\n",
    "in_state[1] = 1.0\n",
    "print(circuit(in_state,theta))\n",
    "print(qml.draw(circuit)(in_state,theta))"
   ],
   "metadata": {
    "collapsed": false
   }
  },
  {
   "cell_type": "code",
   "execution_count": null,
   "outputs": [],
   "source": [],
   "metadata": {
    "collapsed": false
   }
  }
 ],
 "metadata": {
  "kernelspec": {
   "display_name": "Python 3",
   "language": "python",
   "name": "python3"
  },
  "language_info": {
   "codemirror_mode": {
    "name": "ipython",
    "version": 2
   },
   "file_extension": ".py",
   "mimetype": "text/x-python",
   "name": "python",
   "nbconvert_exporter": "python",
   "pygments_lexer": "ipython2",
   "version": "2.7.6"
  }
 },
 "nbformat": 4,
 "nbformat_minor": 0
}
