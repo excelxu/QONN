{
 "cells": [
  {
   "cell_type": "code",
   "execution_count": 5,
   "outputs": [],
   "source": [
    "'''\n",
    "参考文章 QONN in pennylanes\n",
    "'''\n",
    "import numpy as np\n",
    "import pennylane as qml\n",
    "from pennylane.operation import Operation"
   ],
   "metadata": {
    "collapsed": false
   }
  },
  {
   "cell_type": "markdown",
   "source": [
    "create a custom operator by class Operation"
   ],
   "metadata": {
    "collapsed": false
   }
  },
  {
   "cell_type": "code",
   "execution_count": 6,
   "metadata": {
    "collapsed": true
   },
   "outputs": [],
   "source": [
    "class RBS(Operation):\n",
    "    num_params = 1\n",
    "    num_wires = 2\n",
    "    par_domain = \"R\"\n",
    "\n",
    "    def __init__(self, theta, wires):\n",
    "        self.theta = theta\n",
    "        super().__init__(theta, wires=wires)\n",
    "\n",
    "    def expand(self):\n",
    "    # expand 定义了此量子操作的展开形式\n",
    "        qml.Hadamard(wires=self.wires[0])\n",
    "        qml.Hadamard(wires=self.wires[1])\n",
    "        qml.CZ(wires=[self.wires[0],self.wires[1]])\n",
    "        qml.RY(self.theta/2, wires=self.wires[0])\n",
    "        qml.RY(-self.theta/2, wires=self.wires[1])\n",
    "        qml.CZ(wires=[self.wires[0],self.wires[1]])\n",
    "        qml.Hadamard(wires=self.wires[0])\n",
    "        qml.Hadamard(wires=self.wires[1])"
   ]
  },
  {
   "cell_type": "code",
   "execution_count": 7,
   "outputs": [],
   "source": [
    "# dev = qml.device('default.qubit', wires=2)\n",
    "# @qml.qnode(dev)\n",
    "# def circuit():\n",
    "#     qml.QubitStateVector([0,1,0,0]\n",
    "#                         ,wires=[0,1])\n",
    "#     RBS(np.pi, [0,1])\n",
    "#     return qml.state()\n",
    "# circuit()"
   ],
   "metadata": {
    "collapsed": false
   }
  },
  {
   "cell_type": "code",
   "execution_count": 7,
   "outputs": [],
   "source": [],
   "metadata": {
    "collapsed": false
   }
  },
  {
   "cell_type": "markdown",
   "source": [
    "# 使用矩阵直接生成RBS"
   ],
   "metadata": {
    "collapsed": false
   }
  },
  {
   "cell_type": "code",
   "execution_count": 8,
   "outputs": [],
   "source": [
    "# plan B,使用方程生成操作\n",
    "def my_RBS(params, on_wire):\n",
    "    \"\"\"定义一个自定义的参数化二比特门\"\"\"\n",
    "    qml.QubitUnitary(np.array([[1, 0, 0, 0],\n",
    "                               [0, np.cos(params), np.sin(params), 0],\n",
    "                               [0, -np.sin(params), np.cos(params), 0],\n",
    "                               [0, 0, 0, 1]]),\n",
    "                     wires=on_wire)\n"
   ],
   "metadata": {
    "collapsed": false
   }
  },
  {
   "cell_type": "code",
   "execution_count": 26,
   "outputs": [
    {
     "name": "stdout",
     "output_type": "stream",
     "text": [
      "1.0\n",
      "0: ─╭QubitStateVector(M0)─╭U(M1)────────╭U(M4)────────┤  <Z>\n",
      "1: ─├QubitStateVector(M0)─╰U(M1)─╭U(M2)─╰U(M4)─╭U(M3)─┤     \n",
      "2: ─├QubitStateVector(M0)────────╰U(M2)─╭U(M3)─╰U(M3)─┤     \n",
      "3: ─╰QubitStateVector(M0)───────────────╰U(M3)────────┤     \n",
      "()\n"
     ]
    }
   ],
   "source": [
    "dev = qml.device('default.qubit', wires=4)\n",
    "@qml.qnode(dev, diff_method=\"parameter-shift\")\n",
    "def circuit(params):\n",
    "    qml.QubitStateVector(in_state\n",
    "                        ,wires=[0,1,2,3])\n",
    "    my_RBS(params[0], [0,1])\n",
    "    my_RBS(params[1], [1,2])\n",
    "    my_RBS(params[2], [0,1])\n",
    "    my_RBS(params[3], [2,3])\n",
    "    my_RBS(params[4], [1,2])\n",
    "    return qml.expval(qml.PauliZ(0))\n",
    "\n",
    "theta = np.array([0.1, 0.2, 0.3, 1, 1])\n",
    "in_state = np.zeros(2**4)\n",
    "in_state[1] = 1.0\n",
    "print(circuit(theta))\n",
    "print(qml.draw(circuit)(theta))\n",
    "# 测试 grad函数\n",
    "\n",
    "grad = qml.gradients.param_shift(circuit)(theta)\n",
    "print(grad)"
   ],
   "metadata": {
    "collapsed": false
   }
  },
  {
   "cell_type": "markdown",
   "source": [
    "数据读取"
   ],
   "metadata": {
    "collapsed": false
   }
  },
  {
   "cell_type": "code",
   "execution_count": 27,
   "outputs": [
    {
     "ename": "FileNotFoundError",
     "evalue": "[Errno 2] No such file or directory: 'Python招聘数据（全）.xlsx'",
     "output_type": "error",
     "traceback": [
      "\u001B[1;31m---------------------------------------------------------------------------\u001B[0m",
      "\u001B[1;31mFileNotFoundError\u001B[0m                         Traceback (most recent call last)",
      "\u001B[1;32m~\\AppData\\Local\\Temp\\ipykernel_10744\\3742825502.py\u001B[0m in \u001B[0;36m<module>\u001B[1;34m\u001B[0m\n\u001B[0;32m      1\u001B[0m \u001B[1;32mfrom\u001B[0m \u001B[0mopenpyxl\u001B[0m \u001B[1;32mimport\u001B[0m \u001B[0mload_workbook\u001B[0m\u001B[1;33m\u001B[0m\u001B[1;33m\u001B[0m\u001B[0m\n\u001B[0;32m      2\u001B[0m \u001B[1;31m# 1.打开 Excel 表格并获取表格名称\u001B[0m\u001B[1;33m\u001B[0m\u001B[1;33m\u001B[0m\u001B[0m\n\u001B[1;32m----> 3\u001B[1;33m \u001B[0mworkbook\u001B[0m \u001B[1;33m=\u001B[0m \u001B[0mload_workbook\u001B[0m\u001B[1;33m(\u001B[0m\u001B[0mfilename\u001B[0m\u001B[1;33m=\u001B[0m\u001B[1;34m\"Python招聘数据（全）.xlsx\"\u001B[0m\u001B[1;33m)\u001B[0m\u001B[1;33m\u001B[0m\u001B[1;33m\u001B[0m\u001B[0m\n\u001B[0m\u001B[0;32m      4\u001B[0m \u001B[0mprint\u001B[0m\u001B[1;33m(\u001B[0m\u001B[0mworkbook\u001B[0m\u001B[1;33m.\u001B[0m\u001B[0msheetnames\u001B[0m\u001B[1;33m)\u001B[0m\u001B[1;33m\u001B[0m\u001B[1;33m\u001B[0m\u001B[0m\n\u001B[0;32m      5\u001B[0m \u001B[1;31m# 2.通过 sheet 名称获取表格\u001B[0m\u001B[1;33m\u001B[0m\u001B[1;33m\u001B[0m\u001B[0m\n",
      "\u001B[1;32mC:\\ProgramData\\Anaconda3\\lib\\site-packages\\openpyxl\\reader\\excel.py\u001B[0m in \u001B[0;36mload_workbook\u001B[1;34m(filename, read_only, keep_vba, data_only, keep_links)\u001B[0m\n\u001B[0;32m    313\u001B[0m \u001B[1;33m\u001B[0m\u001B[0m\n\u001B[0;32m    314\u001B[0m     \"\"\"\n\u001B[1;32m--> 315\u001B[1;33m     reader = ExcelReader(filename, read_only, keep_vba,\n\u001B[0m\u001B[0;32m    316\u001B[0m                         data_only, keep_links)\n\u001B[0;32m    317\u001B[0m     \u001B[0mreader\u001B[0m\u001B[1;33m.\u001B[0m\u001B[0mread\u001B[0m\u001B[1;33m(\u001B[0m\u001B[1;33m)\u001B[0m\u001B[1;33m\u001B[0m\u001B[1;33m\u001B[0m\u001B[0m\n",
      "\u001B[1;32mC:\\ProgramData\\Anaconda3\\lib\\site-packages\\openpyxl\\reader\\excel.py\u001B[0m in \u001B[0;36m__init__\u001B[1;34m(self, fn, read_only, keep_vba, data_only, keep_links)\u001B[0m\n\u001B[0;32m    122\u001B[0m     def __init__(self,  fn, read_only=False, keep_vba=KEEP_VBA,\n\u001B[0;32m    123\u001B[0m                   data_only=False, keep_links=True):\n\u001B[1;32m--> 124\u001B[1;33m         \u001B[0mself\u001B[0m\u001B[1;33m.\u001B[0m\u001B[0marchive\u001B[0m \u001B[1;33m=\u001B[0m \u001B[0m_validate_archive\u001B[0m\u001B[1;33m(\u001B[0m\u001B[0mfn\u001B[0m\u001B[1;33m)\u001B[0m\u001B[1;33m\u001B[0m\u001B[1;33m\u001B[0m\u001B[0m\n\u001B[0m\u001B[0;32m    125\u001B[0m         \u001B[0mself\u001B[0m\u001B[1;33m.\u001B[0m\u001B[0mvalid_files\u001B[0m \u001B[1;33m=\u001B[0m \u001B[0mself\u001B[0m\u001B[1;33m.\u001B[0m\u001B[0marchive\u001B[0m\u001B[1;33m.\u001B[0m\u001B[0mnamelist\u001B[0m\u001B[1;33m(\u001B[0m\u001B[1;33m)\u001B[0m\u001B[1;33m\u001B[0m\u001B[1;33m\u001B[0m\u001B[0m\n\u001B[0;32m    126\u001B[0m         \u001B[0mself\u001B[0m\u001B[1;33m.\u001B[0m\u001B[0mread_only\u001B[0m \u001B[1;33m=\u001B[0m \u001B[0mread_only\u001B[0m\u001B[1;33m\u001B[0m\u001B[1;33m\u001B[0m\u001B[0m\n",
      "\u001B[1;32mC:\\ProgramData\\Anaconda3\\lib\\site-packages\\openpyxl\\reader\\excel.py\u001B[0m in \u001B[0;36m_validate_archive\u001B[1;34m(filename)\u001B[0m\n\u001B[0;32m     94\u001B[0m             \u001B[1;32mraise\u001B[0m \u001B[0mInvalidFileException\u001B[0m\u001B[1;33m(\u001B[0m\u001B[0mmsg\u001B[0m\u001B[1;33m)\u001B[0m\u001B[1;33m\u001B[0m\u001B[1;33m\u001B[0m\u001B[0m\n\u001B[0;32m     95\u001B[0m \u001B[1;33m\u001B[0m\u001B[0m\n\u001B[1;32m---> 96\u001B[1;33m     \u001B[0marchive\u001B[0m \u001B[1;33m=\u001B[0m \u001B[0mZipFile\u001B[0m\u001B[1;33m(\u001B[0m\u001B[0mfilename\u001B[0m\u001B[1;33m,\u001B[0m \u001B[1;34m'r'\u001B[0m\u001B[1;33m)\u001B[0m\u001B[1;33m\u001B[0m\u001B[1;33m\u001B[0m\u001B[0m\n\u001B[0m\u001B[0;32m     97\u001B[0m     \u001B[1;32mreturn\u001B[0m \u001B[0marchive\u001B[0m\u001B[1;33m\u001B[0m\u001B[1;33m\u001B[0m\u001B[0m\n\u001B[0;32m     98\u001B[0m \u001B[1;33m\u001B[0m\u001B[0m\n",
      "\u001B[1;32mC:\\ProgramData\\Anaconda3\\lib\\zipfile.py\u001B[0m in \u001B[0;36m__init__\u001B[1;34m(self, file, mode, compression, allowZip64, compresslevel, strict_timestamps)\u001B[0m\n\u001B[0;32m   1246\u001B[0m             \u001B[1;32mwhile\u001B[0m \u001B[1;32mTrue\u001B[0m\u001B[1;33m:\u001B[0m\u001B[1;33m\u001B[0m\u001B[1;33m\u001B[0m\u001B[0m\n\u001B[0;32m   1247\u001B[0m                 \u001B[1;32mtry\u001B[0m\u001B[1;33m:\u001B[0m\u001B[1;33m\u001B[0m\u001B[1;33m\u001B[0m\u001B[0m\n\u001B[1;32m-> 1248\u001B[1;33m                     \u001B[0mself\u001B[0m\u001B[1;33m.\u001B[0m\u001B[0mfp\u001B[0m \u001B[1;33m=\u001B[0m \u001B[0mio\u001B[0m\u001B[1;33m.\u001B[0m\u001B[0mopen\u001B[0m\u001B[1;33m(\u001B[0m\u001B[0mfile\u001B[0m\u001B[1;33m,\u001B[0m \u001B[0mfilemode\u001B[0m\u001B[1;33m)\u001B[0m\u001B[1;33m\u001B[0m\u001B[1;33m\u001B[0m\u001B[0m\n\u001B[0m\u001B[0;32m   1249\u001B[0m                 \u001B[1;32mexcept\u001B[0m \u001B[0mOSError\u001B[0m\u001B[1;33m:\u001B[0m\u001B[1;33m\u001B[0m\u001B[1;33m\u001B[0m\u001B[0m\n\u001B[0;32m   1250\u001B[0m                     \u001B[1;32mif\u001B[0m \u001B[0mfilemode\u001B[0m \u001B[1;32min\u001B[0m \u001B[0mmodeDict\u001B[0m\u001B[1;33m:\u001B[0m\u001B[1;33m\u001B[0m\u001B[1;33m\u001B[0m\u001B[0m\n",
      "\u001B[1;31mFileNotFoundError\u001B[0m: [Errno 2] No such file or directory: 'Python招聘数据（全）.xlsx'"
     ]
    }
   ],
   "source": [
    "from openpyxl import load_workbook\n",
    "# 1.打开 Excel 表格并获取表格名称\n",
    "workbook = load_workbook(filename=\"Python招聘数据（全）.xlsx\")\n",
    "print(workbook.sheetnames)\n",
    "# 2.通过 sheet 名称获取表格\n",
    "sheet = workbook[\"Sheet1\"]\n",
    "print(sheet)\n",
    "# 3.获取表格的尺寸大小(几行几列数据) 这里所说的尺寸大小，指的是 excel 表格中的数据有几行几列，针对的是不同的 sheet 而言。\n",
    "print(sheet.dimensions)\n",
    "# 4.获取表格内某个格子的数据\n",
    "# 1 sheet[\"A1\"]方式\n",
    "cell1 = sheet[\"A1\"]\n",
    "cell2 = sheet[\"C11\"]\n",
    "print(cell1.value, cell2.value)\n",
    "\"\"\"\n",
    "workbook.active 打开激活的表格; sheet[\"A1\"] 获取 A1 格子的数据; cell.value 获取格子中的值;\n",
    "\"\"\"\n",
    "# 4.2sheet.cell(row=, column=)方式\n",
    "cell1 = sheet.cell(row = 1,column = 1)\n",
    "cell2 = sheet.cell(row = 11,column = 3)\n",
    "print(cell1.value, cell2.value)\n",
    "\n",
    "# 5. 获取一系列格子\n",
    "# 获取 A1:C2 区域的值\n",
    "cell = sheet[\"A1:C2\"]\n",
    "print(cell)\n",
    "for i in cell:\n",
    "   for j in i:\n",
    "       print(j.value)"
   ],
   "metadata": {
    "collapsed": false
   }
  },
  {
   "cell_type": "code",
   "execution_count": null,
   "outputs": [],
   "source": [],
   "metadata": {
    "collapsed": false
   }
  }
 ],
 "metadata": {
  "kernelspec": {
   "display_name": "Python 3",
   "language": "python",
   "name": "python3"
  },
  "language_info": {
   "codemirror_mode": {
    "name": "ipython",
    "version": 2
   },
   "file_extension": ".py",
   "mimetype": "text/x-python",
   "name": "python",
   "nbconvert_exporter": "python",
   "pygments_lexer": "ipython2",
   "version": "2.7.6"
  }
 },
 "nbformat": 4,
 "nbformat_minor": 0
}
